{
 "cells": [
  {
   "cell_type": "markdown",
   "id": "06498e54",
   "metadata": {},
   "source": [
    "# Data generation for 'The Five Monuments of Cycling'-Dashboard\n",
    "\n",
    "This notebook creates the **data source for a Tableau dashboard** visualizing the characteristics and results of the most important 1-day races in cycling (\"cycling monuments\").\n",
    "\n",
    "Running this notebook will create five files in the repository the notebook is located:\n",
    "- *races.csv* (general information about the races)\n",
    "- *results.csv* (rider placements of each race)\n",
    "- *routes.geojson* (shape of the route for each race)\n",
    "- *elevation.csv* (elevation profile for each race)\n",
    "- *places.csv* (coordinates of points of interest of each race)\n",
    "- *winners.csv* (riders with most monument wins in history)"
   ]
  },
  {
   "cell_type": "code",
   "execution_count": 2,
   "id": "6ecac58b",
   "metadata": {},
   "outputs": [],
   "source": [
    "# Import needed packages\n",
    "import numpy as np\n",
    "from datetime import datetime\n",
    "\n",
    "import pandas as pd\n",
    "import fiona\n",
    "import geopandas as gpd\n",
    "\n",
    "import os\n",
    "import glob"
   ]
  },
  {
   "cell_type": "code",
   "execution_count": 3,
   "id": "be681862",
   "metadata": {},
   "outputs": [],
   "source": [
    "# Generic functions for logging\n",
    "def current_time():\n",
    "    \"\"\"\n",
    "    Return current time in hh:mm:ss\n",
    "    \"\"\"\n",
    "    current_time = datetime.now().strftime(\"%H:%M:%S\")\n",
    "    return(current_time)\n",
    "\n",
    "def log(message):\n",
    "    \"\"\"\n",
    "    Prints message with timestamp for logging\n",
    "    \"\"\"\n",
    "    return(print(current_time(), '-', str(message)))"
   ]
  },
  {
   "cell_type": "markdown",
   "id": "6ccef79c",
   "metadata": {},
   "source": [
    "## 1. Races\n",
    "\n",
    "Data for the eight races is entered manually. Sources: https://www.procyclingstats.com/ and https://www.wikipedia.com/."
   ]
  },
  {
   "cell_type": "code",
   "execution_count": 4,
   "id": "8d6edb4e",
   "metadata": {},
   "outputs": [
    {
     "name": "stdout",
     "output_type": "stream",
     "text": [
      "           id        date                  race  \\\n",
      "0   2022-ms-m  2022-03-19         Milan-Sanremo   \n",
      "1   2022-fl-m  2022-04-03  Ronde van Vlaanderen   \n",
      "2   2022-pr-m  2022-04-17         Paris-Roubaix   \n",
      "3  2022-lbl-m  2022-04-24  Liège-Bastogne-Liège   \n",
      "4   2022-il-m  2022-10-08          Il Lombardia   \n",
      "\n",
      "                            alias gender country      start      finish  \\\n",
      "0                    La Primavera      m      IT      Milan     Sanremo   \n",
      "1                        De Ronde      m      BL    Antwerp  Oudenaarde   \n",
      "2                  Lenfer du Nord      m      FR  Compiègne     Roubaix   \n",
      "3                      La Doyenne      m      BL      Liège       Liège   \n",
      "4  La classica delle foglie morte      m      IT    Bergamo        Como   \n",
      "\n",
      "   number  established  \n",
      "0     113         1907  \n",
      "1     107         1913  \n",
      "2     119         1896  \n",
      "3     106         1892  \n",
      "4     116         1905  \n"
     ]
    }
   ],
   "source": [
    "# Manual entry of race data\n",
    "list_races = [\n",
    "    ['2022-ms-m', '2022-03-19','Milan-Sanremo', 'La Primavera', 'm', 'IT', 'Milan', 'Sanremo', 113, 1907]\n",
    "    , ['2022-fl-m', '2022-04-03', 'Ronde van Vlaanderen', 'De Ronde', 'm', 'BL', 'Antwerp', 'Oudenaarde', 107, 1913]\n",
    "    , ['2022-pr-m', '2022-04-17', 'Paris-Roubaix', 'Lenfer du Nord', 'm', 'FR', 'Compiègne', 'Roubaix', 119, 1896]\n",
    "    , ['2022-lbl-m', '2022-04-24', 'Liège-Bastogne-Liège', 'La Doyenne', 'm', 'BL', 'Liège', 'Liège', 106, 1892]    \n",
    "    , ['2022-il-m', '2022-10-08', 'Il Lombardia', 'La classica delle foglie morte', 'm', 'IT', 'Bergamo', 'Como', 116, 1905]   \n",
    "    , ['2022-fl-w', '2022-04-03', 'Ronde van Vlaanderen', 'De Ronde', 'w', 'BL', 'Oudenaarde', 'Oudenaarde', 19, 2004]\n",
    "    , ['2022-pr-w', '2022-04-16', 'Paris-Roubaix', \"L'enfer du Nord\", 'w', 'FR', 'Denain', 'Roubaix', 2, 2021]\n",
    "    , ['2022-lbl-w', '2022-04-24', 'Liège-Bastogne-Liège', 'La Doyenne', 'w', 'BL', 'Bastogne', 'Liège', 6, 2017]    \n",
    "]\n",
    "  \n",
    "# Create the DataFrame df_races\n",
    "df_races = pd.DataFrame(list_races\n",
    "                        , columns=['id', 'date', 'race', 'alias', 'gender', 'country', 'start', 'finish', 'number', 'established']\n",
    "                       )\n",
    "\n",
    "# Inspect result\n",
    "print(df_races.head())"
   ]
  },
  {
   "cell_type": "code",
   "execution_count": 23,
   "id": "667edb34",
   "metadata": {},
   "outputs": [],
   "source": [
    "# Save to .csv\n",
    "df_races.to_csv('races.csv', index=False)"
   ]
  },
  {
   "cell_type": "markdown",
   "id": "fc3963b2",
   "metadata": {},
   "source": [
    "## 1. Races\n",
    "\n",
    "Data for riders placed in the top 10 are entered manually. Source: https://www.procyclingstats.com/."
   ]
  },
  {
   "cell_type": "code",
   "execution_count": 5,
   "id": "e9a2275f",
   "metadata": {},
   "outputs": [
    {
     "name": "stdout",
     "output_type": "stream",
     "text": [
      "           id  placement                 rider nationality     time\n",
      "0   2022-ms-m          1         Matej Mohorič         SLO  6:27:49\n",
      "1   2022-ms-m          2        Anthony Turgis          FR  6:27:51\n",
      "2   2022-ms-m          3  Mathieu van der Poel          NL  6:27:51\n",
      "3   2022-ms-m          4      Michael Matthews         AUS  6:27:51\n",
      "4   2022-ms-m          5         Tadej Pogačar         SLO  6:27:51\n",
      "..        ...        ...                   ...         ...      ...\n",
      "75  2022-il-m          6    Alejandro Valverde         ESP  6:22:46\n",
      "76  2022-il-m          7         Bauke Mollema          NL  6:22:46\n",
      "77  2022-il-m          8           Rudy Molard          FR  6:22:46\n",
      "78  2022-il-m          9         Romain Bardet          FR  6:22:46\n",
      "79  2022-il-m         10            Adam Yates          GB  6:22:46\n",
      "\n",
      "[80 rows x 5 columns]\n"
     ]
    }
   ],
   "source": [
    "# Manual entry of top 10 results for all monuments retrieved from procyclingstats\n",
    "\n",
    "list_results = [\n",
    "    ['2022-ms-m', 1, 'Matej Mohorič', 'SLO', '6:27:49']\n",
    "    , ['2022-ms-m', 2, 'Anthony Turgis', 'FR', '6:27:51']\n",
    "    , ['2022-ms-m', 3, 'Mathieu van der Poel', 'NL', '6:27:51']\n",
    "    , ['2022-ms-m', 4, 'Michael Matthews', 'AUS', '6:27:51']\n",
    "    , ['2022-ms-m', 5, 'Tadej Pogačar', 'SLO', '6:27:51']\n",
    "    , ['2022-ms-m', 6, 'Mads Pedersen', 'DK', '6:27:51']\n",
    "    , ['2022-ms-m', 7, 'Søren Kragh Andersen', 'DK', '6:27:51']\n",
    "    , ['2022-ms-m', 8, 'Wout van Aart', 'BL', '6:27:51']\n",
    "    , ['2022-ms-m', 9, 'Jan Tratnik', 'SLO', '6:27:53']\n",
    "    , ['2022-ms-m', 10, 'Arnaud Démare', 'FR', '6:27:59']\n",
    "    \n",
    "    , ['2022-fl-m', 1, 'Mathieu van der Poel', 'NL', '6:18:30']\n",
    "    , ['2022-fl-m', 2, 'Dylan van Baarle', 'NL', '6:18:30']\n",
    "    , ['2022-fl-m', 3, 'Valentin Madouas', 'FR', '6:18:30']\n",
    "    , ['2022-fl-m', 4, 'Tadej Pogačar', 'SLO', '6:18:30']\n",
    "    , ['2022-fl-m', 5, 'Stefan Küng', 'SUI', '6:18:32']\n",
    "    , ['2022-fl-m', 6, 'Dylan Teuns', 'BL', '6:18:32']\n",
    "    , ['2022-fl-m', 7, 'Fred Wright', 'GB', '6:18:41']\n",
    "    , ['2022-fl-m', 8, 'Mads Pedersen', 'DK', '6:19:18']\n",
    "    , ['2022-fl-m', 9, 'Christophe Laporte', 'FR', '6:19:18']\n",
    "    , ['2022-fl-m', 10, 'Alexander Kristoff', 'NOR', '6:19:18']     \n",
    "    \n",
    "    , ['2022-fl-w', 1, 'Lotte Kopecky', 'BL', '4:11:21']\n",
    "    , ['2022-fl-w', 2, 'Annemiek van Vleuten', 'NL', '4:11:21']\n",
    "    , ['2022-fl-w', 3, 'C. van den Broek-Blaak', 'NL', '4:11:23']\n",
    "    , ['2022-fl-w', 4, 'Arlenis Sierra', 'CU', '4:12:01']\n",
    "    , ['2022-fl-w', 5, 'Marlen Reusser', 'SUI', '4:12:01']\n",
    "    , ['2022-fl-w', 6, 'Cecilie U. Ludwig', 'DK', '4:12:01']\n",
    "    , ['2022-fl-w', 7, 'Grace Brown', 'AUS', '4:12:01']\n",
    "    , ['2022-fl-w', 8, 'Katarzyna Niewiadoma', 'PL', '4:12:01']\n",
    "    , ['2022-fl-w', 9, 'Brodie Chapman', 'AUS', '4:12:03']\n",
    "    , ['2022-fl-w', 10, 'Marta Bastianelli', 'IT', '4:12:31']   \n",
    "    \n",
    "    , ['2022-pr-m', 1, 'Dylan van Baarle', 'NL', '5:37:00']\n",
    "    , ['2022-pr-m', 2, 'Wout van Aert', 'BL', '5:38:47']\n",
    "    , ['2022-pr-m', 3, 'Stefan Küng', 'SUI', '5:38:47']\n",
    "    , ['2022-pr-m', 4, 'Tom Devriendt', 'BL', '5:38:47']\n",
    "    , ['2022-pr-m', 5, 'Matej Mohorič', 'SLO', '5:38:47']\n",
    "    , ['2022-pr-m', 6, 'Adrien Petit', 'FR', '5:39:27']\n",
    "    , ['2022-pr-m', 7, 'Jasper Stuyven', 'BL', '5:39:27']\n",
    "    , ['2022-pr-m', 8, 'Laurent Pichon', 'FR', '5:39:27']\n",
    "    , ['2022-pr-m', 9, 'Mathieu van der Poel', 'NL', '5:39:34']\n",
    "    , ['2022-pr-m', 10, 'Yves Lampaert', 'BL', '5:39:59']     \n",
    "    \n",
    "    , ['2022-pr-w', 1, 'Elisa Longo Borghini', 'IT', '3:10:54']\n",
    "    , ['2022-pr-w', 2, 'Lotte Kopecky', 'BL', '3:11:17']\n",
    "    , ['2022-pr-w', 3, 'Lucinda Brand', 'NL', '3:11:17']\n",
    "    , ['2022-pr-w', 4, 'Elise Chabbey', 'SUI', '3:11:17']\n",
    "    , ['2022-pr-w', 5, 'Marta Cavalli', 'IT', '3:11:17']\n",
    "    , ['2022-pr-w', 6, 'Floortje Mackaij', 'NL', '3:11:17']\n",
    "    , ['2022-pr-w', 7, 'Ellen van Dijk', 'NL', '3:11:17']\n",
    "    , ['2022-pr-w', 8, 'C. van den Broek-Blaak', 'NL', '3:11:26']\n",
    "    , ['2022-pr-w', 9, 'Pfeiffer Georgi', 'GB', '3:13:16']\n",
    "    , ['2022-pr-w', 10, 'Sandra Alonso', 'ESP', '3:13:16']  \n",
    "    \n",
    "    , ['2022-lbl-m', 1, 'Remco Evenepoel', 'BL', '6:12:38']\n",
    "    , ['2022-lbl-m', 2, 'Quinten Hermans', 'BL', '6:13:26']\n",
    "    , ['2022-lbl-m', 3, 'Wout van Aert', 'BL', '6:13:26']\n",
    "    , ['2022-lbl-m', 4, 'Daniel F. Martínez', 'COL', '6:13:26']\n",
    "    , ['2022-lbl-m', 5, 'Sergio Higuita', 'COL', '6:13:26']\n",
    "    , ['2022-lbl-m', 6, 'Dylan Teuns', 'BL', '6:13:26']\n",
    "    , ['2022-lbl-m', 7, 'Alejandro Valverde', 'ESP', '6:13:26']\n",
    "    , ['2022-lbl-m', 8, 'Neilson Powless', 'US', '6:13:26']\n",
    "    , ['2022-lbl-m', 9, 'Marc Hirschi', 'SUI', '6:13:26']\n",
    "    , ['2022-lbl-m', 10, 'Michael Woods', 'CAN', '6:13:26']     \n",
    "    \n",
    "    , ['2022-lbl-w', 1, 'Annemiek van Vleuten', 'NL', '3:52:32']\n",
    "    , ['2022-lbl-w', 2, 'Grace Brown', 'AUS', '3:53:15']\n",
    "    , ['2022-lbl-w', 3, 'Demi Vollering', 'NL', '3:53:15']\n",
    "    , ['2022-lbl-w', 4, 'Ashleigh Moolman', 'SA', '3:53:15']\n",
    "    , ['2022-lbl-w', 5, 'Elisa Longo Borghini', 'IT', '3:53:15']\n",
    "    , ['2022-lbl-w', 6, 'Marta Cavalli', 'IT', '3:53:19']\n",
    "    , ['2022-lbl-w', 7, 'Arlenis Sierra', 'CU', '3:54:30']\n",
    "    , ['2022-lbl-w', 8, 'Liane Lippert', 'DE', '3:54:30']\n",
    "    , ['2022-lbl-w', 9, 'Katarzyna Niewiadoma', 'PL', '3:54:30']\n",
    "    , ['2022-lbl-w', 10, 'Amanda Spratt', 'AUS', '3:54:30']   \n",
    "    \n",
    "    , ['2022-il-m', 1, 'Tadej Pogačar', 'SLO', '6:21:22']\n",
    "    , ['2022-il-m', 2, 'Enric Mas', 'ESP', '6:21:22']\n",
    "    , ['2022-il-m', 3, 'Mikel Landa', 'ESP', '6:21:32']\n",
    "    , ['2022-il-m', 4, 'Sergio Higuita', 'COL', '6:22:14']\n",
    "    , ['2022-il-m', 5, 'Carlos Rodríguez', 'ESP', '6:22:14']\n",
    "    , ['2022-il-m', 6, 'Alejandro Valverde', 'ESP', '6:22:46']\n",
    "    , ['2022-il-m', 7, 'Bauke Mollema', 'NL', '6:22:46']\n",
    "    , ['2022-il-m', 8, 'Rudy Molard', 'FR', '6:22:46']    \n",
    "    , ['2022-il-m', 9, 'Romain Bardet', 'FR', '6:22:46']\n",
    "    , ['2022-il-m', 10, 'Adam Yates', 'GB', '6:22:46']\n",
    "]\n",
    "\n",
    "  \n",
    "# Create the DataFrame df_results\n",
    "df_results = pd.DataFrame(list_results\n",
    "                        , columns=['id', 'placement', 'rider', 'nationality', 'time']\n",
    "                       )\n",
    "\n",
    "# Inspect data\n",
    "print(df_results)"
   ]
  },
  {
   "cell_type": "code",
   "execution_count": 6,
   "id": "e29c26bb",
   "metadata": {},
   "outputs": [],
   "source": [
    "# Save as .csv\n",
    "df_results.to_csv('results.csv', index=False)"
   ]
  },
  {
   "cell_type": "markdown",
   "id": "d94cb22b",
   "metadata": {},
   "source": [
    "## 3. Elevation profiles\n",
    "\n",
    "In the dashboard the elevation profiles of each race should be visualized in graph displaying kilometers on the x-axis and elevation in meters on the y-axis. The needed data is calculated from the .gpx-tracks of each race. I downloaded the .gpx-files from https://www.cyclingstages.com/ manually. They need to be placed into the folder *gpx_files*. The caluclation used in this notebook is simplified and my not represent the exact distance and elevation of each race. "
   ]
  },
  {
   "cell_type": "code",
   "execution_count": 8,
   "id": "2350efc4",
   "metadata": {},
   "outputs": [
    {
     "name": "stdout",
     "output_type": "stream",
     "text": [
      "13:19:07 - Folder gpx_files allready exists!\n"
     ]
    }
   ],
   "source": [
    "# Create folder for .gpx-files\n",
    "\n",
    "folder_name = 'gpx_files'\n",
    "\n",
    "if os.path.exists(folder_name):\n",
    "    log('Folder ' + folder_name + ' allready exists!')\n",
    "else:\n",
    "    os.makedirs(folder_name)\n",
    "    log('Folder ' + folder_name + ' created.')"
   ]
  },
  {
   "cell_type": "code",
   "execution_count": 9,
   "id": "ec52e573",
   "metadata": {},
   "outputs": [
    {
     "name": "stdout",
     "output_type": "stream",
     "text": [
      "['gpx_files/2022_w_flanders_route.gpx', 'gpx_files/2022_m_lombardia_route.gpx', 'gpx_files/2022_w_lbl_route.gpx', 'gpx_files/2022_m_flanders_route.gpx', 'gpx_files/2022_m_lbl_route.gpx', 'gpx_files/2022_m_roubaix_route.gpx', 'gpx_files/2022_m_ms_route.gpx', 'gpx_files/2022_w_roubaix_route.gpx']\n"
     ]
    }
   ],
   "source": [
    "# Define path to .gpx-files\n",
    "\n",
    "gpx_files = glob.glob(folder_name+\"/*.gpx\")\n",
    "print(gpx_files)"
   ]
  },
  {
   "cell_type": "markdown",
   "id": "4fe4df95",
   "metadata": {},
   "source": [
    "Each track consists of hundreds of coordinates with corrosponding elevation. We need to loop over them, extract them and store them in a DataFrame. In a second step distance between coordinates and elevation change can be calculated through window function. Finally the data is aggregated to only full kilometers (e.g. a race with 100km distance has 100 rows in the final .csv-file."
   ]
  },
  {
   "cell_type": "code",
   "execution_count": 11,
   "id": "6cd8a17b",
   "metadata": {},
   "outputs": [
    {
     "name": "stdout",
     "output_type": "stream",
     "text": [
      "13:25:17 - Parsing .gpx file 1/8: gpx_files/2022_w_flanders_route.gpx\n"
     ]
    },
    {
     "name": "stderr",
     "output_type": "stream",
     "text": [
      "/home/lennart/anaconda3/lib/python3.9/site-packages/geopandas/array.py:1406: UserWarning: CRS not set for some of the concatenation inputs. Setting output's CRS as NAD83 / California Albers (the single non-null crs provided).\n",
      "  warnings.warn(\n"
     ]
    },
    {
     "name": "stdout",
     "output_type": "stream",
     "text": [
      "13:25:23 - Parsing .gpx file 2/8: gpx_files/2022_m_lombardia_route.gpx\n"
     ]
    },
    {
     "name": "stderr",
     "output_type": "stream",
     "text": [
      "/home/lennart/anaconda3/lib/python3.9/site-packages/geopandas/array.py:1406: UserWarning: CRS not set for some of the concatenation inputs. Setting output's CRS as NAD83 / California Albers (the single non-null crs provided).\n",
      "  warnings.warn(\n"
     ]
    },
    {
     "name": "stdout",
     "output_type": "stream",
     "text": [
      "13:25:43 - Parsing .gpx file 3/8: gpx_files/2022_w_lbl_route.gpx\n"
     ]
    },
    {
     "name": "stderr",
     "output_type": "stream",
     "text": [
      "/home/lennart/anaconda3/lib/python3.9/site-packages/geopandas/array.py:1406: UserWarning: CRS not set for some of the concatenation inputs. Setting output's CRS as NAD83 / California Albers (the single non-null crs provided).\n",
      "  warnings.warn(\n"
     ]
    },
    {
     "name": "stdout",
     "output_type": "stream",
     "text": [
      "13:25:50 - Parsing .gpx file 4/8: gpx_files/2022_m_flanders_route.gpx\n"
     ]
    },
    {
     "name": "stderr",
     "output_type": "stream",
     "text": [
      "/home/lennart/anaconda3/lib/python3.9/site-packages/geopandas/array.py:1406: UserWarning: CRS not set for some of the concatenation inputs. Setting output's CRS as NAD83 / California Albers (the single non-null crs provided).\n",
      "  warnings.warn(\n"
     ]
    },
    {
     "name": "stdout",
     "output_type": "stream",
     "text": [
      "13:26:00 - Parsing .gpx file 5/8: gpx_files/2022_m_lbl_route.gpx\n"
     ]
    },
    {
     "name": "stderr",
     "output_type": "stream",
     "text": [
      "/home/lennart/anaconda3/lib/python3.9/site-packages/geopandas/array.py:1406: UserWarning: CRS not set for some of the concatenation inputs. Setting output's CRS as NAD83 / California Albers (the single non-null crs provided).\n",
      "  warnings.warn(\n"
     ]
    },
    {
     "name": "stdout",
     "output_type": "stream",
     "text": [
      "13:26:11 - Parsing .gpx file 6/8: gpx_files/2022_m_roubaix_route.gpx\n"
     ]
    },
    {
     "name": "stderr",
     "output_type": "stream",
     "text": [
      "/home/lennart/anaconda3/lib/python3.9/site-packages/geopandas/array.py:1406: UserWarning: CRS not set for some of the concatenation inputs. Setting output's CRS as NAD83 / California Albers (the single non-null crs provided).\n",
      "  warnings.warn(\n"
     ]
    },
    {
     "name": "stdout",
     "output_type": "stream",
     "text": [
      "13:26:21 - Parsing .gpx file 7/8: gpx_files/2022_m_ms_route.gpx\n"
     ]
    },
    {
     "name": "stderr",
     "output_type": "stream",
     "text": [
      "/home/lennart/anaconda3/lib/python3.9/site-packages/geopandas/array.py:1406: UserWarning: CRS not set for some of the concatenation inputs. Setting output's CRS as NAD83 / California Albers (the single non-null crs provided).\n",
      "  warnings.warn(\n"
     ]
    },
    {
     "name": "stdout",
     "output_type": "stream",
     "text": [
      "13:26:36 - Parsing .gpx file 8/8: gpx_files/2022_w_roubaix_route.gpx\n"
     ]
    },
    {
     "name": "stderr",
     "output_type": "stream",
     "text": [
      "/home/lennart/anaconda3/lib/python3.9/site-packages/geopandas/array.py:1406: UserWarning: CRS not set for some of the concatenation inputs. Setting output's CRS as NAD83 / California Albers (the single non-null crs provided).\n",
      "  warnings.warn(\n"
     ]
    }
   ],
   "source": [
    "gdf_elevation = gpd.GeoDataFrame()\n",
    "\n",
    "i=1\n",
    "for file in gpx_files:\n",
    "    log(('Parsing .gpx file '+ str(i) + '/' + str(len(gpx_files)) + ': ' + file))\n",
    "    # Extract track point layer\n",
    "    d_track_points = fiona.open(file, layer='track_points')\n",
    "    \n",
    "    # Loop over track points within the layer\n",
    "    df_track_points = pd.DataFrame()\n",
    "    for pt in d_track_points:\n",
    "        df = pd.DataFrame({'file_name': file\n",
    "                           , 'ele': [pt['properties']['ele']]\n",
    "                           , 'lat': [pt['geometry']['coordinates'][1]]                       \n",
    "                           , 'lon': [pt['geometry']['coordinates'][0]]\n",
    "                          })\n",
    "        df_track_points = pd.concat([df_track_points,df], axis=0, join='outer')\n",
    "    \n",
    "    # Convert extracted data into GeoDataFrame and only keep data for first full km\n",
    "    gdf = gpd.GeoDataFrame(df_track_points\n",
    "                           , geometry=gpd.points_from_xy(df_track_points.lon, df_track_points.lat)\n",
    "                           , crs=\"EPSG:4326\"\n",
    "                          )\n",
    "    \n",
    "    # Calculate distance and km\n",
    "    gdf = gdf.to_crs('EPSG:3310',inplace=False)\n",
    "    gdf['distance'] = gdf.distance(gdf.shift())\n",
    "    gdf['km'] = gdf['distance'].cumsum()/1000\n",
    "    \n",
    "    # Aggegate to full km and keep coordinate with max elevation\n",
    "    gdf['km'] = gdf['km'].apply(np.floor)\n",
    "    gdf['km'] = gdf['km'].fillna(0)\n",
    "    gdf = gdf.sort_values(by='ele', ascending=False).groupby('km', as_index=False).first()\n",
    "    \n",
    "    # Calculate elevation change\n",
    "    gdf['ele_change'] = gdf['ele'].diff()\n",
    "    gdf['ele_change'] = gdf['ele_change'].fillna(0)\n",
    "    \n",
    "    # Append to main GeoDataFrame\n",
    "    gdf_elevation = pd.concat([gdf_elevation, gdf], ignore_index=True, axis=0, join='outer')  \n",
    "    \n",
    "    i = i+1\n",
    "\n",
    "# Generate ID from file_name\n",
    "gdf_elevation.loc[(gdf_elevation['file_name'].str.contains(\"m_flanders\")),'id'] = '2022-fl-m'\n",
    "gdf_elevation.loc[(gdf_elevation['file_name'].str.contains(\"w_flanders\")),'id'] = '2022-fl-w'\n",
    "gdf_elevation.loc[(gdf_elevation['file_name'].str.contains(\"m_lombardia\")),'id'] = '2022-il-m'\n",
    "gdf_elevation.loc[(gdf_elevation['file_name'].str.contains(\"m_lbl\")),'id'] = '2022-lbl-m'\n",
    "gdf_elevation.loc[(gdf_elevation['file_name'].str.contains(\"w_lbl\")),'id'] = '2022-lbl-w'\n",
    "gdf_elevation.loc[(gdf_elevation['file_name'].str.contains(\"m_roubaix\")),'id'] = '2022-pr-m'\n",
    "gdf_elevation.loc[(gdf_elevation['file_name'].str.contains(\"w_roubaix\")),'id'] = '2022-pr-w'\n",
    "gdf_elevation.loc[(gdf_elevation['file_name'].str.contains(\"m_ms\")),'id'] = '2022-ms-m'"
   ]
  },
  {
   "cell_type": "code",
   "execution_count": 12,
   "id": "ba040906",
   "metadata": {},
   "outputs": [
    {
     "name": "stdout",
     "output_type": "stream",
     "text": [
      "             id     km   ele  ele_change       lat      lon\n",
      "0     2022-fl-w    0.0  97.0         0.0  50.83005  3.67937\n",
      "1     2022-fl-w    1.0  96.0        -1.0  50.83118  3.68089\n",
      "2     2022-fl-w    2.0  86.0       -10.0  50.83794  3.68829\n",
      "3     2022-fl-w    3.0  62.0       -24.0  50.84469  3.69739\n",
      "4     2022-fl-w    4.0  56.0        -6.0  50.85203  3.72007\n",
      "...         ...    ...   ...         ...       ...      ...\n",
      "1748  2022-pr-w  121.0  50.0        14.0  50.66141  3.18370\n",
      "1749  2022-pr-w  122.0  50.0         0.0  50.66254  3.18293\n",
      "1750  2022-pr-w  123.0  37.0       -13.0  50.67217  3.19075\n",
      "1751  2022-pr-w  124.0  35.0        -2.0  50.67755  3.19917\n",
      "1752  2022-pr-w  125.0  29.0        -6.0  50.67741  3.20533\n",
      "\n",
      "[1753 rows x 6 columns]\n",
      "               km    ele  ele_change       lat      lon\n",
      "id                                                     \n",
      "2022-fl-m   273.0   11.0        -3.0  50.84013  3.58989\n",
      "2022-fl-w   157.0   12.0        -1.0  50.84054  3.59262\n",
      "2022-il-m   252.0  206.0        -3.0  45.81264  9.07413\n",
      "2022-lbl-m  252.0   66.0         0.0  50.62200  5.58279\n",
      "2022-lbl-w  141.0   66.0        -1.0  50.62152  5.58159\n",
      "2022-ms-m   292.0   11.0        -5.0  43.81599  7.77624\n",
      "2022-pr-m   255.0   31.0        -5.0  50.67821  3.20342\n",
      "2022-pr-w   125.0   29.0        -6.0  50.67741  3.20533\n"
     ]
    }
   ],
   "source": [
    "# Filter columns\n",
    "df_elevation = gdf_elevation[['id','km','ele','ele_change','lat','lon']]\n",
    "\n",
    "# Inspect data\n",
    "print(df_elevation)\n",
    "print(df_elevation.groupby('id').last())"
   ]
  },
  {
   "cell_type": "code",
   "execution_count": 13,
   "id": "588c3e8c",
   "metadata": {},
   "outputs": [],
   "source": [
    "# Save data to .csv\n",
    "df_elevation.to_csv('elevation.csv', index=False)"
   ]
  },
  {
   "cell_type": "markdown",
   "id": "cfe3df7f",
   "metadata": {},
   "source": [
    "## 4. Route shapefiles\n",
    "\n",
    "Contrary to the elevation the route shapes can be extracted quite easily from the .gpx-files."
   ]
  },
  {
   "cell_type": "code",
   "execution_count": 14,
   "id": "2f60974c",
   "metadata": {},
   "outputs": [
    {
     "name": "stdout",
     "output_type": "stream",
     "text": [
      "13:47:07 - Extracting gpx_files/2022_w_flanders_route.gpx\n",
      "13:47:08 - Extracting gpx_files/2022_m_lombardia_route.gpx\n",
      "13:47:08 - Extracting gpx_files/2022_w_lbl_route.gpx\n",
      "13:47:08 - Extracting gpx_files/2022_m_flanders_route.gpx\n",
      "13:47:08 - Extracting gpx_files/2022_m_lbl_route.gpx\n",
      "13:47:08 - Extracting gpx_files/2022_m_roubaix_route.gpx\n",
      "13:47:08 - Extracting gpx_files/2022_m_ms_route.gpx\n",
      "13:47:08 - Extracting gpx_files/2022_w_roubaix_route.gpx\n"
     ]
    }
   ],
   "source": [
    "folder = \"gpx_files/\"\n",
    "gdf_routes = gpd.GeoDataFrame()\n",
    "\n",
    "for file in os.listdir(folder):\n",
    "    if file.endswith(('.gpx')):\n",
    "        try:\n",
    "            log('Extracting ' + folder + file)\n",
    "            gdf = gpd.read_file(folder + file, layer='tracks')\n",
    "            gdf = gdf[['geometry']]\n",
    "            gdf['file_name'] = file\n",
    "            gdf_routes = gpd.GeoDataFrame( pd.concat( [gdf_routes, gdf], ignore_index=True )) \n",
    "            \n",
    "        except:\n",
    "            log(\"Error extracting\" + folder + file)\n",
    "            \n",
    "# Define ID from file_name\n",
    "gdf_routes.loc[(gdf_routes['file_name'].str.contains(\"m_flanders\")),'id'] = '2022-fl-m'\n",
    "gdf_routes.loc[(gdf_routes['file_name'].str.contains(\"w_flanders\")),'id'] = '2022-fl-w'\n",
    "gdf_routes.loc[(gdf_routes['file_name'].str.contains(\"m_lombardia\")),'id'] = '2022-il-m'\n",
    "gdf_routes.loc[(gdf_routes['file_name'].str.contains(\"m_lbl\")),'id'] = '2022-lbl-m'\n",
    "gdf_routes.loc[(gdf_routes['file_name'].str.contains(\"w_lbl\")),'id'] = '2022-lbl-w'\n",
    "gdf_routes.loc[(gdf_routes['file_name'].str.contains(\"m_roubaix\")),'id'] = '2022-pr-m'\n",
    "gdf_routes.loc[(gdf_routes['file_name'].str.contains(\"w_roubaix\")),'id'] = '2022-pr-w'\n",
    "gdf_routes.loc[(gdf_routes['file_name'].str.contains(\"m_ms\")),'id'] = '2022-ms-m'\n",
    "\n",
    "# Filter Columns\n",
    "gdf_routes = gdf_routes[['id','geometry']]"
   ]
  },
  {
   "cell_type": "code",
   "execution_count": 15,
   "id": "8b7f6129",
   "metadata": {},
   "outputs": [
    {
     "name": "stdout",
     "output_type": "stream",
     "text": [
      "           id                                           geometry\n",
      "0   2022-fl-w  MULTILINESTRING ((3.66731 50.83107, 3.66737 50...\n",
      "1   2022-il-m  MULTILINESTRING ((9.71168 45.68780, 9.71184 45...\n",
      "2  2022-lbl-w  MULTILINESTRING ((5.72941 50.02061, 5.72989 50...\n",
      "3   2022-fl-m  MULTILINESTRING ((4.34544 51.20171, 4.34521 51...\n",
      "4  2022-lbl-m  MULTILINESTRING ((5.61442 50.60436, 5.61441 50...\n",
      "5   2022-pr-m  MULTILINESTRING ((2.89534 49.44582, 2.89534 49...\n",
      "6   2022-ms-m  MULTILINESTRING ((9.16173 45.41251, 9.16171 45...\n",
      "7   2022-pr-w  MULTILINESTRING ((3.38919 50.34771, 3.38753 50...\n"
     ]
    }
   ],
   "source": [
    "# Inspect result\n",
    "print(gdf_routes)"
   ]
  },
  {
   "cell_type": "code",
   "execution_count": 16,
   "id": "86484769",
   "metadata": {
    "scrolled": true
   },
   "outputs": [],
   "source": [
    "# Save line-shapes as .geojson\n",
    "gdf_routes.to_file('routes.geojson')"
   ]
  },
  {
   "cell_type": "markdown",
   "id": "83223991",
   "metadata": {},
   "source": [
    "## 5. Places"
   ]
  },
  {
   "cell_type": "code",
   "execution_count": 18,
   "id": "24af7290",
   "metadata": {},
   "outputs": [
    {
     "name": "stdout",
     "output_type": "stream",
     "text": [
      "           id                  start_name  start_lat  start_lon  \\\n",
      "0   2022-ms-m  Velodromo Vigorelli, Milan    9.16173   45.41251   \n",
      "1   2022-fl-m                     Antwerp    4.34544   51.20171   \n",
      "2   2022-pr-m                   Compiègne    2.89534   49.44582   \n",
      "3  2022-lbl-m                       Liège    5.61442   50.60436   \n",
      "4   2022-il-m                     Bergamo    9.71168   45.68780   \n",
      "5   2022-fl-w                   Horebeeke    3.66731   50.83107   \n",
      "6   2022-pr-w                      Denain    3.66731   50.83107   \n",
      "7  2022-lbl-w                    Bastogne    3.38919   50.34771   \n",
      "\n",
      "         finish_name  finish_lat  finish_lon        highlight_name  \\\n",
      "0  Via Roma, Sanremo     7.77624    43.81599                Poggio   \n",
      "1         Oudenaarde     3.59005    50.84015             Paterberg   \n",
      "2  Roubaix Velodrome     3.20601    50.67783     Trouée d’Arenberg   \n",
      "3              Liège     5.59222    50.61842    Côte de la Redoute   \n",
      "4               Como     9.08068    45.81331  Madonna del Ghisallo   \n",
      "5         Oudenaarde     3.59277    50.84057             Paterberg   \n",
      "6  Roubaix Velodrome     3.20628    50.67799  Carrefour de l’Arbre   \n",
      "7              Liège     5.59059    50.61922    Côte de la Redoute   \n",
      "\n",
      "   highlight_lat  highlight_lon  \n",
      "0      10.183596      42.786720  \n",
      "1       3.548710      50.782045  \n",
      "2       3.410819      50.401088  \n",
      "3       5.707573      50.488964  \n",
      "4       9.244240      45.928812  \n",
      "5       3.548710      50.782045  \n",
      "6       3.229780      50.589717  \n",
      "7       5.707573      50.488964  \n"
     ]
    }
   ],
   "source": [
    "list_places = [\n",
    "    ['2022-ms-m', 'Velodromo Vigorelli, Milan', 9.16173, 45.41251, 'Via Roma, Sanremo', 7.77624, 43.81599, 'Poggio',10.18359612565498,42.78671980001402]\n",
    "    , ['2022-fl-m', 'Antwerp', 4.34544, 51.20171, 'Oudenaarde', 3.59005, 50.84015, 'Paterberg', 3.548710, 50.782045]\n",
    "    , ['2022-pr-m', 'Compiègne', 2.89534, 49.44582, 'Roubaix Velodrome', 3.20601, 50.67783, \"Trouée d’Arenberg\", 3.410819, 50.401088]\n",
    "    , ['2022-lbl-m', 'Liège', 5.61442, 50.60436, 'Liège', 5.59222, 50.61842, 'Côte de la Redoute', 5.707572539502681, 50.4889644028033]    \n",
    "    , ['2022-il-m', 'Bergamo', 9.71168, 45.68780, 'Como', 9.08068, 45.81331, 'Madonna del Ghisallo', 9.24424012485198, 45.928812232147465]   \n",
    "    , ['2022-fl-w', 'Horebeeke', 3.66731, 50.83107, 'Oudenaarde', 3.59277, 50.84057, 'Paterberg', 3.548710, 50.782045]\n",
    "    , ['2022-pr-w', 'Denain', 3.66731, 50.83107, 'Roubaix Velodrome', 3.20628, 50.67799, \"Carrefour de l’Arbre\", 3.2297801106725164, 50.589717314595184, ]\n",
    "    , ['2022-lbl-w', 'Bastogne', 3.38919, 50.34771, 'Liège', 5.59059, 50.61922, 'Côte de la Redoute', 5.707572539502681, 50.4889644028033] \n",
    "]\n",
    "  \n",
    "# Create the DataFrame df_races\n",
    "df_places = pd.DataFrame(list_places\n",
    "                        , columns=['id', 'start_name', 'start_lat', 'start_lon', 'finish_name', 'finish_lat', 'finish_lon', 'highlight_name', 'highlight_lat', 'highlight_lon']\n",
    "                       )\n",
    "  \n",
    "print(df_places)"
   ]
  },
  {
   "cell_type": "code",
   "execution_count": 19,
   "id": "21093a3e",
   "metadata": {},
   "outputs": [],
   "source": [
    "# Save to .csv\n",
    "df_places.to_csv('places.csv', index=False)"
   ]
  },
  {
   "cell_type": "markdown",
   "id": "88ad57fb",
   "metadata": {},
   "source": [
    "## 6. Most wins"
   ]
  },
  {
   "cell_type": "code",
   "execution_count": 20,
   "id": "922a584e",
   "metadata": {},
   "outputs": [
    {
     "name": "stdout",
     "output_type": "stream",
     "text": [
      "   gender                       rider nationality active_flg  wins_ms  \\\n",
      "0       m                 Eddy Merckx          BL          N        7   \n",
      "1       m          Roger De Vlaeminck          BL          N        8   \n",
      "2       m         Costante Girardengo          IT          N        6   \n",
      "3       m                Fausto Coppi          IT          N        3   \n",
      "4       m                  Sean Kelly          IR          N        2   \n",
      "5       m                 Rik van Loy          BL          N        1   \n",
      "6       m                Gino Bartali          IT          N        4   \n",
      "7       m                  Tom Boonen          BL          N        0   \n",
      "8       m           Fabian Cancellara         SUI          N        1   \n",
      "9       m             Henri Pélissier          FR          N        1   \n",
      "10      w        Annemiek van Vleuten          NL          Y        0   \n",
      "11      w            Zoulfia Zabirova          RU          N        2   \n",
      "12      w  Mirjam Melchers-van Poppel          NL          N        1   \n",
      "13      w        Anna van der Breggen          NL          N        0   \n",
      "14      w              Lizzie Deignan          GB          Y        0   \n",
      "15      w                Judith Arndt          DE          N        0   \n",
      "16      w        Elisa Longo Borghini          IT          Y        0   \n",
      "\n",
      "    wins_fl  wins_pr  wins_lbl  wins_il  win_first  win_last  \n",
      "0         2        3         5        2       1966      1976  \n",
      "1         1        4         1        2       1970      1979  \n",
      "2         0        0         0        3       1918      1928  \n",
      "3         0        1         0        5       1946      1954  \n",
      "4         0        2         2        3       1983      1992  \n",
      "5         2        3         1        1       1958      1965  \n",
      "6         0        0         0        3       1939      1950  \n",
      "7         3        4         0        0       2005      2012  \n",
      "8         3        3         0        0       2006      2014  \n",
      "9         0        2         0        3       1911      1921  \n",
      "10        2        0         2        0       2011      2022  \n",
      "11        1        0         0        0       2002      2004  \n",
      "12        2        0         0        0       2002      2006  \n",
      "13        1        0         2        0       2017      2018  \n",
      "14        1        1         1        0       2016      2021  \n",
      "15        2        0         0        0       2008      2012  \n",
      "16        1        1         0        0       2015      2022  \n"
     ]
    }
   ],
   "source": [
    "list_winners = [\n",
    "    ['m','Eddy Merckx','BL','N',7,2,3,5,2,1966,1976]\n",
    "    , ['m','Roger De Vlaeminck','BL','N',8,1,4,1,2,1970,1979]\n",
    "    , ['m','Costante Girardengo','IT','N',6,0,0,0,3,1918,1928]\n",
    "    , ['m','Fausto Coppi','IT','N',3,0,1,0,5,1946,1954]\n",
    "    , ['m','Sean Kelly','IR','N',2,0,2,2,3,1983,1992]\n",
    "    , ['m','Rik van Loy','BL','N',1,2,3,1,1,1958,1965]\n",
    "    , ['m','Gino Bartali','IT','N',4,0,0,0,3,1939,1950]\n",
    "    , ['m','Tom Boonen','BL','N',0,3,4,0,0,2005,2012]\n",
    "    , ['m','Fabian Cancellara','SUI','N',1,3,3,0,0,2006,2014]\n",
    "    , ['m','Henri Pélissier','FR','N',1,0,2,0,3,1911,1921]\n",
    "\n",
    "    , ['w','Annemiek van Vleuten','NL','Y',0,2,0,2,0,2011,2022]\n",
    "    , ['w','Zoulfia Zabirova','RU','N',2,1,0,0,0,2002,2004]\n",
    "    , ['w','Mirjam Melchers-van Poppel','NL','N',1,2,0,0,0,2002,2006]\n",
    "    , ['w','Anna van der Breggen','NL','N',0,1,0,2,0,2017,2018]\n",
    "    , ['w','Lizzie Deignan','GB','Y',0,1,1,1,0,2016,2021]\n",
    "    , ['w','Judith Arndt','DE','N',0,2,0,0,0,2008,2012]\n",
    "    , ['w','Elisa Longo Borghini','IT','Y',0,1,1,0,0,2015,2022]\n",
    "\n",
    "]\n",
    "  \n",
    "# Create the DataFrame df_races\n",
    "df_winners = pd.DataFrame(list_winners\n",
    "                        , columns=['gender', 'rider', 'nationality','active_flg','wins_ms','wins_fl','wins_pr','wins_lbl','wins_il','win_first','win_last']\n",
    "                       )\n",
    "  \n",
    "print(df_winners)"
   ]
  },
  {
   "cell_type": "code",
   "execution_count": 21,
   "id": "39e9106f",
   "metadata": {},
   "outputs": [],
   "source": [
    "# Save to .csv\n",
    "df_winners.to_csv('winners.csv', index=False)"
   ]
  },
  {
   "cell_type": "markdown",
   "id": "561315c6",
   "metadata": {},
   "source": [
    "### You should now find 5 .csv-files and 1 .geojson in the same repository this notebook is stored.\n",
    "\n"
   ]
  }
 ],
 "metadata": {
  "kernelspec": {
   "display_name": "Python 3 (ipykernel)",
   "language": "python",
   "name": "python3"
  },
  "language_info": {
   "codemirror_mode": {
    "name": "ipython",
    "version": 3
   },
   "file_extension": ".py",
   "mimetype": "text/x-python",
   "name": "python",
   "nbconvert_exporter": "python",
   "pygments_lexer": "ipython3",
   "version": "3.9.13"
  }
 },
 "nbformat": 4,
 "nbformat_minor": 5
}
